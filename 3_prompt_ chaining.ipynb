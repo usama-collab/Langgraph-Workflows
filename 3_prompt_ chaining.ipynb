{
 "cells": [
  {
   "cell_type": "code",
   "execution_count": 104,
   "id": "7d4ada98",
   "metadata": {},
   "outputs": [],
   "source": [
    "from langgraph.graph import StateGraph,START, END\n",
    "from langchain_google_genai import ChatGoogleGenerativeAI\n",
    "from dotenv import load_dotenv\n",
    "from typing import TypedDict"
   ]
  },
  {
   "cell_type": "code",
   "execution_count": 105,
   "id": "cdbbd78e",
   "metadata": {},
   "outputs": [
    {
     "data": {
      "text/plain": [
       "True"
      ]
     },
     "execution_count": 105,
     "metadata": {},
     "output_type": "execute_result"
    }
   ],
   "source": [
    "load_dotenv()"
   ]
  },
  {
   "cell_type": "code",
   "execution_count": 106,
   "id": "970a79aa",
   "metadata": {},
   "outputs": [],
   "source": [
    "model = ChatGoogleGenerativeAI(model='gemini-2.5-pro')\n"
   ]
  },
  {
   "cell_type": "code",
   "execution_count": 107,
   "id": "2ae7c190",
   "metadata": {},
   "outputs": [],
   "source": [
    "class BlogState(TypedDict):\n",
    "\n",
    "    topic: str\n",
    "    outline: str\n",
    "    blog: str\n",
    "    evaluate: int"
   ]
  },
  {
   "cell_type": "code",
   "execution_count": 108,
   "id": "3ffad95b",
   "metadata": {},
   "outputs": [],
   "source": [
    "def generate_outline(state:BlogState) -> BlogState:\n",
    "\n",
    "    #Extract topic from the state\n",
    "    topic = state['topic']\n",
    "\n",
    "    #call llm for generation\n",
    "    prompt = f'generate a 2 line outline for a blog from the topic - {topic}'\n",
    "\n",
    "    outline = model.invoke(prompt).content\n",
    "\n",
    "    state['outline'] = outline\n",
    "\n",
    "    return state"
   ]
  },
  {
   "cell_type": "code",
   "execution_count": 109,
   "id": "7559843d",
   "metadata": {},
   "outputs": [],
   "source": [
    "def generate_blog(state: BlogState) -> BlogState:\n",
    "\n",
    "    #Extract blog from the state\n",
    "    topic = state['topic']\n",
    "    outline = state['outline']\n",
    "\n",
    "    #call llm for blog generation\n",
    "    prompt = f'write a 5 line blog on the {topic} from the following \\n {outline}'\n",
    "\n",
    "    blog = model.invoke(prompt).content\n",
    "\n",
    "    state['blog'] = blog\n",
    "\n",
    "    return state"
   ]
  },
  {
   "cell_type": "code",
   "execution_count": 110,
   "id": "1a50d934",
   "metadata": {},
   "outputs": [],
   "source": [
    "def evaluate(state: BlogState) -> BlogState:\n",
    "\n",
    "    outline = state['outline']\n",
    "    blog = state['blog']\n",
    "\n",
    "    prompt = f'Based on the following outline \\n {outline}. Rate my following blog \\n {blog} and give me the score in integer out of 10'\n",
    "\n",
    "    evaluation = model.invoke(prompt)\n",
    "    score_str = evaluation.content\n",
    "    try:\n",
    "        score = int(\"\".join([c for c in score_str if c.isdigit()]))\n",
    "    except:\n",
    "        score = 0  # fallback in case of unexpected response\n",
    "\n",
    "    state['evaluate'] = score\n",
    "\n",
    "    return state"
   ]
  },
  {
   "cell_type": "code",
   "execution_count": 111,
   "id": "79b3b188",
   "metadata": {},
   "outputs": [],
   "source": [
    "#create our graph\n",
    "graph = StateGraph(BlogState)\n",
    "\n",
    "#Add node to our graph\n",
    "graph.add_node('generate_outline', generate_outline)\n",
    "graph.add_node('generate_blog', generate_blog)\n",
    "graph.add_node('evaluate', evaluate)\n",
    "\n",
    "#Add edge to our graph\n",
    "graph.add_edge(START, 'generate_outline')\n",
    "graph.add_edge('generate_outline', 'generate_blog')\n",
    "graph.add_edge('generate_blog', 'evaluate')\n",
    "graph.add_edge('evaluate', END)\n",
    "\n",
    "workflow = graph.compile()"
   ]
  },
  {
   "cell_type": "code",
   "execution_count": 112,
   "id": "3f850470",
   "metadata": {},
   "outputs": [
    {
     "name": "stdout",
     "output_type": "stream",
     "text": [
      "blog Content Here is a 5-line blog post on the rise of AI, crafted from the provided outlines:\n",
      "\n",
      "Once the stuff of science fiction, AI has now become a powerful part of our daily reality. This revolution is creating unprecedented opportunities while also forcing us to confront profound ethical dilemmas. It's a journey that is fundamentally reshaping our job market and challenging human creativity. As society shifts, our greatest task is to navigate the challenges and adapt our skills. To thrive in this new era, we must learn to work alongside our intelligent creations.\n",
      "Score 9101231010510\n"
     ]
    }
   ],
   "source": [
    "initial_state = {'topic': 'Rise of AI'}\n",
    "\n",
    "final_state = workflow.invoke(initial_state)\n",
    "\n",
    "print('blog Content', final_state['blog'])\n",
    "print('Score', final_state['evaluate'])"
   ]
  },
  {
   "cell_type": "code",
   "execution_count": null,
   "id": "110acd95",
   "metadata": {},
   "outputs": [],
   "source": []
  }
 ],
 "metadata": {
  "kernelspec": {
   "display_name": "langenv",
   "language": "python",
   "name": "python3"
  },
  "language_info": {
   "codemirror_mode": {
    "name": "ipython",
    "version": 3
   },
   "file_extension": ".py",
   "mimetype": "text/x-python",
   "name": "python",
   "nbconvert_exporter": "python",
   "pygments_lexer": "ipython3",
   "version": "3.12.9"
  }
 },
 "nbformat": 4,
 "nbformat_minor": 5
}
