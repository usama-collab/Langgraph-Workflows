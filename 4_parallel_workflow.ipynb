{
 "cells": [
  {
   "cell_type": "code",
   "execution_count": 54,
   "id": "ab237b2a",
   "metadata": {},
   "outputs": [],
   "source": [
    "from langgraph.graph import StateGraph,START,END\n",
    "from typing import TypedDict"
   ]
  },
  {
   "cell_type": "code",
   "execution_count": 55,
   "id": "586940b2",
   "metadata": {},
   "outputs": [],
   "source": [
    "class BatsmanState(TypedDict):\n",
    "\n",
    "    runs: int\n",
    "    balls: int\n",
    "    fours: int\n",
    "    sixes: int\n",
    "\n",
    "    sr: float\n",
    "    bpb: float\n",
    "    boundry_percent: float\n",
    "    summary: str"
   ]
  },
  {
   "cell_type": "code",
   "execution_count": 56,
   "id": "c7e1a6ee",
   "metadata": {},
   "outputs": [],
   "source": [
    "def calculate_sr(state: BatsmanState) -> BatsmanState:\n",
    "\n",
    "    sr = (state['runs']/state['balls'])*100\n",
    "\n",
    "\n",
    "    return {'sr': sr}"
   ]
  },
  {
   "cell_type": "code",
   "execution_count": 57,
   "id": "38e80888",
   "metadata": {},
   "outputs": [],
   "source": [
    "def calculate_bpb(state: BatsmanState) -> BatsmanState:\n",
    "\n",
    "    bpb = state['balls']/state['fours']+state['sixes']\n",
    "\n",
    "\n",
    "    return {'bpb': bpb}"
   ]
  },
  {
   "cell_type": "code",
   "execution_count": 58,
   "id": "032cf8a1",
   "metadata": {},
   "outputs": [],
   "source": [
    "def calculate_boundry_percent(state:BatsmanState) -> BatsmanState:\n",
    "\n",
    "    boundry_percent = (((state['fours']*4) + (state['sixes']*6))/state['runs'])*100\n",
    "\n",
    "\n",
    "    return {'boundry_percent': boundry_percent}"
   ]
  },
  {
   "cell_type": "code",
   "execution_count": 59,
   "id": "67b05882",
   "metadata": {},
   "outputs": [],
   "source": [
    "def calculate_summary(state: BatsmanState) -> BatsmanState:\n",
    "\n",
    "    summary = f\"\"\"\n",
    "strike rate - {state['sr']} \\n\n",
    "balls per boundry - {state['bpb']} \\n\n",
    "boundry percentage - {state['boundry_percent']}\n",
    "\"\"\"\n",
    "    \n",
    "\n",
    "    return {'summary': summary}"
   ]
  },
  {
   "cell_type": "code",
   "execution_count": 60,
   "id": "a3885a7b",
   "metadata": {},
   "outputs": [],
   "source": [
    "graph = StateGraph(BatsmanState)\n",
    "\n",
    "graph.add_node('calculate_sr', calculate_sr)\n",
    "graph.add_node('calculate_bpb', calculate_bpb)\n",
    "graph.add_node('calculate_boundry_percent', calculate_boundry_percent)\n",
    "graph.add_node('calculate_summary', calculate_summary)\n",
    "\n",
    "graph.add_edge(START, 'calculate_sr')\n",
    "graph.add_edge(START, 'calculate_bpb')\n",
    "graph.add_edge(START, 'calculate_boundry_percent')\n",
    "\n",
    "graph.add_edge('calculate_sr', 'calculate_summary')\n",
    "graph.add_edge('calculate_bpb', 'calculate_summary')\n",
    "graph.add_edge('calculate_boundry_percent', 'calculate_summary')\n",
    "\n",
    "graph.add_edge('calculate_summary', END)\n",
    "\n",
    "workflow = graph.compile()"
   ]
  },
  {
   "cell_type": "code",
   "execution_count": 61,
   "id": "ce74637c",
   "metadata": {},
   "outputs": [
    {
     "name": "stdout",
     "output_type": "stream",
     "text": [
      "{'runs': 200, 'balls': 50, 'fours': 9, 'sixes': 10, 'sr': 400.0, 'bpb': 15.555555555555555, 'boundry_percent': 48.0, 'summary': '\\nstrike rate - 400.0 \\n\\nballs per boundry - 15.555555555555555 \\n\\nboundry percentage - 48.0\\n'}\n"
     ]
    }
   ],
   "source": [
    "initial_state = {\n",
    "    'runs': 200,\n",
    "    'balls': 50,\n",
    "    'fours': 9,\n",
    "    'sixes': 10\n",
    "}\n",
    "\n",
    "final_state = workflow.invoke(initial_state)\n",
    "\n",
    "print(final_state)"
   ]
  },
  {
   "cell_type": "code",
   "execution_count": null,
   "id": "41558ab2",
   "metadata": {},
   "outputs": [],
   "source": []
  }
 ],
 "metadata": {
  "kernelspec": {
   "display_name": "langenv",
   "language": "python",
   "name": "python3"
  },
  "language_info": {
   "codemirror_mode": {
    "name": "ipython",
    "version": 3
   },
   "file_extension": ".py",
   "mimetype": "text/x-python",
   "name": "python",
   "nbconvert_exporter": "python",
   "pygments_lexer": "ipython3",
   "version": "3.12.9"
  }
 },
 "nbformat": 4,
 "nbformat_minor": 5
}
