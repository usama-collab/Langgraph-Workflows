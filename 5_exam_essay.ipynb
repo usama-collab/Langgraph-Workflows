{
 "cells": [
  {
   "cell_type": "code",
   "execution_count": 19,
   "id": "ed8733b4",
   "metadata": {},
   "outputs": [],
   "source": [
    "from langgraph.graph import StateGraph,START, END\n",
    "from langchain_google_genai import ChatGoogleGenerativeAI\n",
    "from dotenv import load_dotenv\n",
    "from typing import TypedDict,Annotated\n",
    "from pydantic import BaseModel, Field\n",
    "import operator"
   ]
  },
  {
   "cell_type": "code",
   "execution_count": 20,
   "id": "99e347f3",
   "metadata": {},
   "outputs": [
    {
     "data": {
      "text/plain": [
       "True"
      ]
     },
     "execution_count": 20,
     "metadata": {},
     "output_type": "execute_result"
    }
   ],
   "source": [
    "load_dotenv()"
   ]
  },
  {
   "cell_type": "code",
   "execution_count": 21,
   "id": "769dd2d1",
   "metadata": {},
   "outputs": [],
   "source": [
    "model = ChatGoogleGenerativeAI(model='gemini-2.5-pro')"
   ]
  },
  {
   "cell_type": "code",
   "execution_count": 22,
   "id": "3d3f7b6d",
   "metadata": {},
   "outputs": [],
   "source": [
    "class EvaluationSchema(BaseModel):\n",
    "\n",
    "    feedback: str = Field(description='Detailed feedback for the essay')\n",
    "    score: int = Field(description='Score out of 10', ge=0, le=10)"
   ]
  },
  {
   "cell_type": "code",
   "execution_count": 23,
   "id": "b13e1bcb",
   "metadata": {},
   "outputs": [],
   "source": [
    "structured_model = model.with_structured_output(EvaluationSchema)"
   ]
  },
  {
   "cell_type": "code",
   "execution_count": 24,
   "id": "99697ef1",
   "metadata": {},
   "outputs": [],
   "source": [
    "essay = \"\"\"Artificial Intelligence (AI) has become an integral part of our daily lives, transforming the way we work, communicate, and interact with the world. From the smartphones in our pockets to the recommendation systems on streaming platforms, AI quietly powers many of the technologies we take for granted. Its ability to analyze vast amounts of data and recognize patterns has made it an essential tool in fields such as healthcare, finance, and transportation. By automating repetitive tasks, AI not only improves efficiency but also frees up human potential for more creative and strategic endeavors.\n",
    "\n",
    "In the healthcare industry, AI is revolutionizing diagnostics, patient care, and drug discovery. Algorithms trained on medical data can now detect diseases like cancer or diabetic retinopathy earlier and more accurately than traditional methods. Virtual assistants and chatbots help manage patient queries, while robotic surgeries offer precision that reduces recovery time. AI also accelerates the development of new medications by simulating how different compounds interact with the human body, significantly shortening research timelines. These advancements are not just technological milestones but also steps toward more accessible and effective healthcare systems.\n",
    "\n",
    "Beyond healthcare, AI plays a significant role in shaping modern economies and industries. In finance, AI systems detect fraudulent transactions, assess credit risk, and offer personalized financial advice. In manufacturing, predictive maintenance powered by AI helps prevent equipment failure and reduce downtime. AI's influence is also seen in agriculture, where smart systems monitor soil conditions, optimize irrigation, and predict crop yields. These applications not only enhance productivity but also support sustainability by minimizing waste and conserving resources. As industries embrace AI, they unlock new opportunities for growth and innovation.\n",
    "\n",
    "However, the rise of AI also brings challenges that society must address thoughtfully. Concerns around data privacy, algorithmic bias, and job displacement are increasingly prominent. While AI has the potential to create new jobs and industries, it may also render certain roles obsolete, particularly those involving routine tasks. Ensuring that AI systems are transparent, fair, and aligned with human values is crucial for building trust and preventing harm. As we move forward, the focus should be on using AI responsibly—leveraging its power to improve lives while safeguarding ethical standards and human dignity.\n",
    "\"\"\""
   ]
  },
  {
   "cell_type": "code",
   "execution_count": 25,
   "id": "d650e152",
   "metadata": {},
   "outputs": [],
   "source": [
    "# structured_model.invoke(prompt)"
   ]
  },
  {
   "cell_type": "code",
   "execution_count": 26,
   "id": "4c3a8ec1",
   "metadata": {},
   "outputs": [],
   "source": [
    "class EssayState(TypedDict):\n",
    "\n",
    "    essay: str\n",
    "    language_feedback: str\n",
    "    analysis_feedback: str\n",
    "    clarity_feedback: str\n",
    "    overall_feedback: str\n",
    "    individual_scores: Annotated[list[int], operator.add]\n",
    "    avg_score: float"
   ]
  },
  {
   "cell_type": "code",
   "execution_count": 27,
   "id": "4c51d718",
   "metadata": {},
   "outputs": [],
   "source": [
    "def evaluate_language(state: EssayState):\n",
    "\n",
    "    prompt = f'Evaluate the language quality of the following essay and provide a feedback and assign a score out of 10 \\n {essay}'\n",
    "    output = structured_model.invoke(prompt)\n",
    "\n",
    "    return {'language_feedback': output.feedback, 'individual_scores': [output.score]}"
   ]
  },
  {
   "cell_type": "code",
   "execution_count": 28,
   "id": "271e4ea8",
   "metadata": {},
   "outputs": [],
   "source": [
    "def evaluate_analysis(state: EssayState):\n",
    "\n",
    "    prompt = f'Evaluate the depth of analysis of the following essay and provide a feedback and assign a score out of 10 \\n {essay}'\n",
    "    output = structured_model.invoke(prompt)\n",
    "\n",
    "    return {'analysis_feedback': output.feedback, 'individual_scores': [output.score]}"
   ]
  },
  {
   "cell_type": "code",
   "execution_count": 29,
   "id": "1e22940a",
   "metadata": {},
   "outputs": [],
   "source": [
    "def evaluate_thought(state: EssayState):\n",
    "\n",
    "    prompt = f'Evaluate the clarity of thought of the following essay and provide a feedback and assign a score out of 10 \\n {essay}'\n",
    "    output = structured_model.invoke(prompt)\n",
    "\n",
    "    return {'clarity_feedback': output.feedback, 'individual_scores': [output.score]}"
   ]
  },
  {
   "cell_type": "code",
   "execution_count": 30,
   "id": "c8409c88",
   "metadata": {},
   "outputs": [],
   "source": [
    "def final_evaluation(state: EssayState):\n",
    "\n",
    "    # summary feedback\n",
    "    prompt = f'Based on the following feedbacks create a summarized feedback \\n language feedback - {state[\"language_feedback\"]} \\n depth of analysis feedback - {state[\"analysis_feedback\"]} \\n clarity of thought feedback - {state[\"clarity_feedback\"]}'\n",
    "    overall_feedback = model.invoke(prompt).content\n",
    "\n",
    "    # avg calculate\n",
    "    avg_score = sum(state['individual_scores'])/len(state['individual_scores'])\n",
    "\n",
    "    return {'overall_feedback': overall_feedback, 'avg_score': avg_score}"
   ]
  },
  {
   "cell_type": "code",
   "execution_count": 32,
   "id": "b62d6373",
   "metadata": {},
   "outputs": [],
   "source": [
    "graph = StateGraph(EssayState)\n",
    "\n",
    "graph.add_node('evaluate_language', evaluate_language)\n",
    "graph.add_node('evaluate_analysis', evaluate_analysis)\n",
    "graph.add_node('evaluate_thought', evaluate_thought)\n",
    "graph.add_node('final_evaluation', final_evaluation)\n",
    "\n",
    "# edges\n",
    "graph.add_edge(START, 'evaluate_language')\n",
    "graph.add_edge(START, 'evaluate_analysis')\n",
    "graph.add_edge(START, 'evaluate_thought')\n",
    "\n",
    "graph.add_edge('evaluate_language', 'final_evaluation')\n",
    "graph.add_edge('evaluate_analysis', 'final_evaluation')\n",
    "graph.add_edge('evaluate_thought', 'final_evaluation')\n",
    "\n",
    "graph.add_edge('final_evaluation', END)\n",
    "\n",
    "workflow = graph.compile()"
   ]
  },
  {
   "cell_type": "code",
   "execution_count": null,
   "id": "a95a827d",
   "metadata": {},
   "outputs": [
    {
     "name": "stdout",
     "output_type": "stream",
     "text": [
      "{'essay': \"Artificial Intelligence (AI) has become an integral part of our daily lives, transforming the way we work, communicate, and interact with the world. From the smartphones in our pockets to the recommendation systems on streaming platforms, AI quietly powers many of the technologies we take for granted. Its ability to analyze vast amounts of data and recognize patterns has made it an essential tool in fields such as healthcare, finance, and transportation. By automating repetitive tasks, AI not only improves efficiency but also frees up human potential for more creative and strategic endeavors.\\n\\nIn the healthcare industry, AI is revolutionizing diagnostics, patient care, and drug discovery. Algorithms trained on medical data can now detect diseases like cancer or diabetic retinopathy earlier and more accurately than traditional methods. Virtual assistants and chatbots help manage patient queries, while robotic surgeries offer precision that reduces recovery time. AI also accelerates the development of new medications by simulating how different compounds interact with the human body, significantly shortening research timelines. These advancements are not just technological milestones but also steps toward more accessible and effective healthcare systems.\\n\\nBeyond healthcare, AI plays a significant role in shaping modern economies and industries. In finance, AI systems detect fraudulent transactions, assess credit risk, and offer personalized financial advice. In manufacturing, predictive maintenance powered by AI helps prevent equipment failure and reduce downtime. AI's influence is also seen in agriculture, where smart systems monitor soil conditions, optimize irrigation, and predict crop yields. These applications not only enhance productivity but also support sustainability by minimizing waste and conserving resources. As industries embrace AI, they unlock new opportunities for growth and innovation.\", 'language_feedback': 'The essay is exceptionally well-written, demonstrating a strong command of the English language. The structure is clear and logical, with a compelling introduction, well-developed body paragraphs, and a thoughtful conclusion. The vocabulary is sophisticated and used appropriately, and the grammatical accuracy is flawless. The arguments are presented coherently, making the essay easy to follow and understand. Overall, this is a high-quality piece of writing.', 'analysis_feedback': \"The essay provides a well-structured and comprehensive overview of the impact of Artificial Intelligence across various sectors. The introduction clearly sets the stage, and the body paragraphs effectively discuss AI's applications in healthcare, finance, and other industries, using relevant examples. The writing is clear and accessible.\\n\\nHowever, the depth of analysis could be enhanced. The essay is more descriptive than analytical. For instance, while it mentions benefits like improved diagnostics and efficiency, it doesn't delve deeply into the complexities or limitations of these applications. The discussion of challenges such as algorithmic bias and job displacement is noted but remains at a high level.\\n\\nTo improve, the analysis could move from listing applications to critically evaluating their real-world impact. This would involve exploring specific case studies, discussing the nuances and controversies surrounding AI implementation in more detail, and offering a more critical perspective on the balance between AI's benefits and its societal costs.\", 'clarity_feedback': 'The essay demonstrates excellent clarity of thought. It is well-structured, with a clear introduction, focused body paragraphs that provide specific examples, and a concluding section that thoughtfully addresses the challenges of AI. The arguments flow logically, making the essay easy to follow and understand. The author presents a balanced perspective by highlighting both the transformative potential and the ethical considerations of artificial intelligence.', 'overall_feedback': \"Of course. Here is a summarized feedback based on the three provided evaluations:\\n\\n**Summarized Feedback**\\n\\nOverall, this is a high-quality essay that excels in its language, clarity, and structure. The writing is sophisticated and grammatically flawless, with a logical flow that makes the arguments easy to follow. The essay effectively presents a comprehensive overview of AI's impact across various sectors, supported by relevant examples.\\n\\nThe primary area for improvement is in the depth of analysis. While the essay successfully describes AI's applications and challenges, it remains more descriptive than analytical. To elevate the work, the focus should shift from listing applications to critically evaluating their real-world complexities, limitations, and societal costs. Incorporating specific case studies and delving deeper into the nuances of issues like algorithmic bias and job displacement would transform this from a strong overview into a more insightful and analytical piece.\", 'individual_scores': [7, 9, 9], 'avg_score': 8.333333333333334}\n"
     ]
    }
   ],
   "source": [
    "initial_state = {\n",
    "    'essay': \"\"\"Artificial Intelligence (AI) has become an integral part of our daily lives, transforming the way we work, communicate, and interact with the world. From the smartphones in our pockets to the recommendation systems on streaming platforms, AI quietly powers many of the technologies we take for granted. Its ability to analyze vast amounts of data and recognize patterns has made it an essential tool in fields such as healthcare, finance, and transportation. By automating repetitive tasks, AI not only improves efficiency but also frees up human potential for more creative and strategic endeavors.\n",
    "\n",
    "In the healthcare industry, AI is revolutionizing diagnostics, patient care, and drug discovery. Algorithms trained on medical data can now detect diseases like cancer or diabetic retinopathy earlier and more accurately than traditional methods. Virtual assistants and chatbots help manage patient queries, while robotic surgeries offer precision that reduces recovery time. AI also accelerates the development of new medications by simulating how different compounds interact with the human body, significantly shortening research timelines. These advancements are not just technological milestones but also steps toward more accessible and effective healthcare systems.\n",
    "\n",
    "Beyond healthcare, AI plays a significant role in shaping modern economies and industries. In finance, AI systems detect fraudulent transactions, assess credit risk, and offer personalized financial advice. In manufacturing, predictive maintenance powered by AI helps prevent equipment failure and reduce downtime. AI's influence is also seen in agriculture, where smart systems monitor soil conditions, optimize irrigation, and predict crop yields. These applications not only enhance productivity but also support sustainability by minimizing waste and conserving resources. As industries embrace AI, they unlock new opportunities for growth and innovation.\"\"\"\n",
    "}\n",
    "\n",
    "final_state = workflow.invoke(initial_state)\n",
    "\n",
    "print(final_state)"
   ]
  },
  {
   "cell_type": "code",
   "execution_count": null,
   "id": "c40f547e",
   "metadata": {},
   "outputs": [],
   "source": []
  }
 ],
 "metadata": {
  "kernelspec": {
   "display_name": "langenv",
   "language": "python",
   "name": "python3"
  },
  "language_info": {
   "codemirror_mode": {
    "name": "ipython",
    "version": 3
   },
   "file_extension": ".py",
   "mimetype": "text/x-python",
   "name": "python",
   "nbconvert_exporter": "python",
   "pygments_lexer": "ipython3",
   "version": "3.12.9"
  }
 },
 "nbformat": 4,
 "nbformat_minor": 5
}
